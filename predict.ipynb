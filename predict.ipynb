{
 "cells": [
  {
   "cell_type": "code",
   "execution_count": 18,
   "id": "31ab5f3f",
   "metadata": {},
   "outputs": [],
   "source": [
    "import random\n",
    "skip=[]\n",
    "brush=[]\n",
    "count=[]\n",
    "done=[]"
   ]
  },
  {
   "cell_type": "code",
   "execution_count": 15,
   "id": "b7bb6946",
   "metadata": {},
   "outputs": [
    {
     "name": "stdout",
     "output_type": "stream",
     "text": [
      "5\n"
     ]
    }
   ],
   "source": [
    "while True:\n",
    "    num=random.randint(0,30)\n",
    "    if num not in count:\n",
    "        print(num)\n",
    "        count.append(num)\n",
    "        break\n",
    "    else:\n",
    "       continue"
   ]
  },
  {
   "cell_type": "code",
   "execution_count": null,
   "id": "ce781c85",
   "metadata": {},
   "outputs": [],
   "source": [
    "print(f\"Append {num} to Skip\")\n",
    "skip.append(num)"
   ]
  },
  {
   "cell_type": "code",
   "execution_count": null,
   "id": "f3c08e0e",
   "metadata": {},
   "outputs": [],
   "source": [
    "print(f\"Append {num} to Brush\")\n",
    "brush.append(num)"
   ]
  },
  {
   "cell_type": "code",
   "execution_count": null,
   "id": "92e2e4fd",
   "metadata": {},
   "outputs": [],
   "source": [
    "print(f\"Append {num} to Done\")\n",
    "done.append(num)"
   ]
  },
  {
   "cell_type": "code",
   "execution_count": 17,
   "id": "752abaf4",
   "metadata": {},
   "outputs": [
    {
     "name": "stdout",
     "output_type": "stream",
     "text": [
      "Questions Done: []\n",
      "Question need to be Brush:[]\n",
      "Question i Skip:[]\n",
      "Question passed the suffle:[1, 4, 3, 18, 5]\n"
     ]
    }
   ],
   "source": [
    "print(f\"Questions Done: {done}\")\n",
    "print(f\"Question need to be Brush:{brush}\")\n",
    "print(f\"Question i Skip:{skip}\")\n",
    "print(f\"Question passed the suffle:{count}\")"
   ]
  },
  {
   "cell_type": "code",
   "execution_count": null,
   "id": "0647feda",
   "metadata": {},
   "outputs": [],
   "source": []
  }
 ],
 "metadata": {
  "kernelspec": {
   "display_name": "Python 3",
   "language": "python",
   "name": "python3"
  },
  "language_info": {
   "codemirror_mode": {
    "name": "ipython",
    "version": 3
   },
   "file_extension": ".py",
   "mimetype": "text/x-python",
   "name": "python",
   "nbconvert_exporter": "python",
   "pygments_lexer": "ipython3",
   "version": "3.10.11"
  }
 },
 "nbformat": 4,
 "nbformat_minor": 5
}
